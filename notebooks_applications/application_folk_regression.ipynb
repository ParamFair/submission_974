{
 "cells": [
  {
   "cell_type": "code",
   "execution_count": 2,
   "metadata": {},
   "outputs": [],
   "source": [
    "# Important, set your home directory here:\n",
    "home_dir = ''"
   ]
  },
  {
   "cell_type": "code",
   "execution_count": 3,
   "metadata": {},
   "outputs": [],
   "source": [
    "import os \n",
    "os.chdir(home_dir)\n",
    "\n",
    "import numpy as np\n",
    "import pandas as pd\n",
    "import pickle\n",
    "\n",
    "import lightgbm as lgb\n",
    "from sklearn.metrics import mean_squared_error\n",
    "from scipy.interpolate import interp1d\n",
    "import scipy.stats as scs\n",
    "\n",
    "import seaborn as sns\n",
    "import matplotlib.pyplot as plt"
   ]
  },
  {
   "cell_type": "code",
   "execution_count": 29,
   "metadata": {},
   "outputs": [
    {
     "name": "stdout",
     "output_type": "stream",
     "text": [
      "The autoreload extension is already loaded. To reload it, use:\n",
      "  %reload_ext autoreload\n"
     ]
    }
   ],
   "source": [
    "%load_ext autoreload\n",
    "%autoreload 2\n",
    "from main.fairness.paramfitter import LocationScaleGumbel\n",
    "from main.fairness.wasserstein import WassersteinBinary\n",
    "from main.models.utils import preprocess_census, cv_early_stopping\n",
    "from main.fairness.metrics import unfairness\n",
    "from main.loaders.loader_folktabs import load_income_data"
   ]
  },
  {
   "cell_type": "markdown",
   "metadata": {},
   "source": [
    "# Train paramatric class with Californian data"
   ]
  },
  {
   "cell_type": "code",
   "execution_count": null,
   "metadata": {},
   "outputs": [],
   "source": [
    "data_income = load_income_data(states=['CA'])\n",
    "\n",
    "cat_features = ['OCCP', 'POBP', 'SCHL', 'RELP']\n",
    "\n",
    "preprocessed_dict = preprocess_census(data_income, \n",
    "                                      target_feature='PINCP',\n",
    "                                      sensitive_features=['SEX'], \n",
    "                                      categorical_features=cat_features,\n",
    "                                      continuous_features=['WKHP', 'AGEP'], \n",
    "                                      target_processing='log')\n",
    "\n",
    "params = {\n",
    "    \"objective\": \"regression\",\n",
    "    \"metric\": \"mse\",\n",
    "    \"min_data_in_leaf\": 50,\n",
    "    \"learning_rate\": 0.05,\n",
    "    \"feature_fraction\": 0.9,\n",
    "    \"verbose\": -1\n",
    "}\n",
    "\n",
    "cv_results = cv_early_stopping(params=params, \n",
    "                               nfolds=5, \n",
    "                               max_rounds=1000, \n",
    "                               early_stopping_rounds=20, \n",
    "                               X_train=preprocessed_dict['X_train'], \n",
    "                               y_train=preprocessed_dict['y_train'], \n",
    "                               categorical_feats=cat_features)\n",
    "\n",
    "\n",
    "best_res = np.argmin(cv_results['metric'])\n",
    "best_iter = cv_results['iterations'][best_res]\n",
    "\n",
    "print((f\"Best MSE: {np.min(cv_results['metric'])} \\nBest Iter: {best_iter}\"))\n",
    "\n",
    "# Retrain whole model\n",
    "data_train_all = lgb.Dataset(data=preprocessed_dict['X_train'], \n",
    "                             label=preprocessed_dict['y_train'], \n",
    "                             categorical_feature=cat_features)\n",
    "\n",
    "best_estimator = lgb.train(params=params,\n",
    "                           train_set=data_train_all, \n",
    "                           num_boost_round=best_iter)\n",
    "\n",
    "\n",
    "preds_uncorrected_calib = best_estimator.predict(preprocessed_dict['X_train'])\n",
    "preds_uncorrected_test = best_estimator.predict(preprocessed_dict['X_test'])\n",
    "\n",
    "sens_calib = np.where(preprocessed_dict['X_train'].RAC1P_black == 1, 1, 0)\n",
    "sens_test = np.where(preprocessed_dict['X_test'].RAC1P_black == 1, 1, 0)\n",
    "\n",
    "fairness_trans = WassersteinBinary()\n",
    "fairness_trans.fit(preds_uncorrected_calib, sens_calib)\n",
    "\n",
    "nonparam_preds_calib = fairness_trans.transform(preds_uncorrected_calib, sens_calib)\n",
    "nonparam_preds_test = fairness_trans.transform(preds_uncorrected_test, sens_test)\n",
    "\n",
    "\n",
    "parametric_sampler = LocationScaleGumbel()\n",
    "\n",
    "parametric_sampler.fit(X=np.array(nonparam_preds_calib), \n",
    "                           sampling_obs=len(nonparam_preds_calib)*50)\n",
    "\n",
    "    \n",
    "parametric_preds = parametric_sampler.sample(n=len(nonparam_preds_test), \n",
    "                                                mc_samples=20)\n",
    "\n",
    "\n",
    "interpolator = interp1d(np.sort(nonparam_preds_test),\n",
    "                            parametric_preds, fill_value='extrapolate')\n",
    "    \n",
    "param_preds_test = interpolator(nonparam_preds_test)"
   ]
  },
  {
   "cell_type": "code",
   "execution_count": 25,
   "metadata": {},
   "outputs": [
    {
     "name": "stdout",
     "output_type": "stream",
     "text": [
      "Optimization terminated successfully.\n",
      "         Current function value: 0.041882\n",
      "         Iterations: 107\n",
      "         Function evaluations: 202\n"
     ]
    }
   ],
   "source": [
    "parametric_sampler = LocationScaleGumbel()\n",
    "\n",
    "parametric_sampler.fit(X=np.array(nonparam_preds_calib), \n",
    "                           sampling_obs=len(nonparam_preds_calib)*50)\n",
    "\n",
    "    \n",
    "parametric_preds = parametric_sampler.sample(n=len(nonparam_preds_test), \n",
    "                                                mc_samples=20)\n",
    "\n",
    "\n",
    "interpolator = interp1d(np.sort(nonparam_preds_test),\n",
    "                            parametric_preds, fill_value='extrapolate')\n",
    "    \n",
    "param_preds_test = interpolator(nonparam_preds_test)"
   ]
  },
  {
   "cell_type": "code",
   "execution_count": 26,
   "metadata": {},
   "outputs": [
    {
     "data": {
      "text/plain": [
       "<Axes: ylabel='Density'>"
      ]
     },
     "execution_count": 26,
     "metadata": {},
     "output_type": "execute_result"
    },
    {
     "data": {
      "image/png": "[encoded data removed]",
      "text/plain": [
       "<Figure size 640x480 with 1 Axes>"
      ]
     },
     "metadata": {},
     "output_type": "display_data"
    }
   ],
   "source": [
    "sns.kdeplot(param_preds_test)\n",
    "sns.kdeplot(nonparam_preds_test)"
   ]
  },
  {
   "cell_type": "markdown",
   "metadata": {},
   "source": [
    "Fit looks good"
   ]
  },
  {
   "cell_type": "markdown",
   "metadata": {},
   "source": [
    "# Now run experiments on Texan Data"
   ]
  },
  {
   "cell_type": "code",
   "execution_count": null,
   "metadata": {},
   "outputs": [],
   "source": [
    "results_dict = {}\n",
    "\n",
    "for seed_ in [42, 1029, 3948, 103, 56, 93983838, 828, 1928838, 900, 10]:\n",
    "    results_dict[seed_] = {}\n",
    "\n",
    "    data_income = load_income_data(states=['TX'])\n",
    "\n",
    "    cat_features = ['OCCP', 'POBP', 'SCHL', 'RELP']\n",
    "\n",
    "    preprocessed_dict = preprocess_census(data_income, \n",
    "                                        target_feature='PINCP',\n",
    "                                        sensitive_features=['SEX'], \n",
    "                                        categorical_features=cat_features,\n",
    "                                        continuous_features=['WKHP', 'AGEP'], \n",
    "                                        target_processing='log', \n",
    "                                        split_seed=seed_)\n",
    "    \n",
    "    for missing_prop in [0, 0.25, 0.5, 0.75]:\n",
    "        results_dict[seed_][missing_prop] = {}\n",
    "\n",
    "        error_obs = scs.bernoulli(missing_prop).rvs(int(len(preprocessed_dict['y_train'])))\n",
    "        data_errors = scs.gamma(1,.5).rvs(size=int(len(preprocessed_dict['y_train'])))\n",
    "        error_vec = error_obs*data_errors\n",
    "        preprocessed_dict['y_train'] += error_vec\n",
    "\n",
    "        params = {\n",
    "            \"objective\": \"regression\",\n",
    "            \"metric\": \"mse\",\n",
    "            \"min_data_in_leaf\": 50,\n",
    "            \"learning_rate\": 0.05,\n",
    "            \"feature_fraction\": 0.9,\n",
    "            \"verbose\": -1\n",
    "        }\n",
    "\n",
    "        cv_results = cv_early_stopping(params=params, \n",
    "                                    nfolds=5, \n",
    "                                    max_rounds=1000, \n",
    "                                    early_stopping_rounds=20, \n",
    "                                    X_train=preprocessed_dict['X_train'], \n",
    "                                    y_train=preprocessed_dict['y_train'], \n",
    "                                    categorical_feats=cat_features)\n",
    "\n",
    "        best_res = np.argmin(cv_results['metric'])\n",
    "        best_iter = cv_results['iterations'][best_res]\n",
    "\n",
    "        print((f\"Best MSE: {np.min(cv_results['metric'])} \\nBest Iter: {best_iter}\"))\n",
    "\n",
    "\n",
    "        # Retrain whole model\n",
    "        data_train_all = lgb.Dataset(data=preprocessed_dict['X_train'], \n",
    "                                    label=preprocessed_dict['y_train'], \n",
    "                                    categorical_feature=cat_features)\n",
    "\n",
    "        best_estimator = lgb.train(params=params,\n",
    "                                train_set=data_train_all, \n",
    "                                num_boost_round=best_iter)\n",
    "\n",
    "\n",
    "        preds_uncorrected_calib = best_estimator.predict(preprocessed_dict['X_train'])\n",
    "        preds_uncorrected_test = best_estimator.predict(preprocessed_dict['X_test'])\n",
    "\n",
    "        sens_calib = np.where(preprocessed_dict['X_train'].RAC1P_black == 1, 1, 0)\n",
    "        sens_test = np.where(preprocessed_dict['X_test'].RAC1P_black == 1, 1, 0)\n",
    "\n",
    "        fairness_trans = WassersteinBinary()\n",
    "        fairness_trans.fit(preds_uncorrected_calib, sens_calib)\n",
    "\n",
    "        nonparam_preds_calib = fairness_trans.transform(preds_uncorrected_calib, sens_calib)\n",
    "        nonparam_preds_test = fairness_trans.transform(preds_uncorrected_test, sens_test)\n",
    "        \n",
    "        # Interpolate with previously fitted Gumbel\n",
    "        param_preds_test = interpolator(nonparam_preds_test)\n",
    "\n",
    "        results_dict[seed_][missing_prop]['mse_nonparam'] = mean_squared_error(preprocessed_dict['y_test'], nonparam_preds_test)\n",
    "        results_dict[seed_][missing_prop]['mse_param'] = mean_squared_error(preprocessed_dict['y_test'], param_preds_test)\n",
    "\n",
    "        results_dict[seed_][missing_prop]['unfair_nonparam'] = unfairness(nonparam_preds_test[sens_test == 1],  nonparam_preds_test[sens_test != 1])\n",
    "        results_dict[seed_][missing_prop]['unfair_param'] = unfairness(param_preds_test[sens_test == 1],  param_preds_test[sens_test != 1])\n",
    "\n",
    "    with open(f'data/results/folktabs/dicts/dict_corrupted.pkl', 'wb') as con_:\n",
    "        pickle.dump(results_dict, con_)"
   ]
  }
 ],
 "metadata": {
  "kernelspec": {
   "display_name": "cenv_neurips",
   "language": "python",
   "name": "cenv_neurips"
  },
  "language_info": {
   "codemirror_mode": {
    "name": "ipython",
    "version": 3
   },
   "file_extension": ".py",
   "mimetype": "text/x-python",
   "name": "python",
   "nbconvert_exporter": "python",
   "pygments_lexer": "ipython3",
   "version": "3.10.10"
  },
  "orig_nbformat": 4
 },
 "nbformat": 4,
 "nbformat_minor": 2
}
